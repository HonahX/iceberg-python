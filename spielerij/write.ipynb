{
 "cells": [
  {
   "cell_type": "code",
   "execution_count": 1,
   "id": "initial_id",
   "metadata": {
    "collapsed": true,
    "ExecuteTime": {
     "end_time": "2023-10-05T12:40:38.372723Z",
     "start_time": "2023-10-05T12:40:38.052215Z"
    }
   },
   "outputs": [],
   "source": [
    "import pyarrow as pa\n",
    "\n",
    "df = pa.Table.from_pylist(\n",
    "    [\n",
    "        {\"lat\": 52.371807, \"long\": 4.896029},\n",
    "        {\"lat\": 52.387386, \"long\": 4.646219},\n",
    "        {\"lat\": 52.078663, \"long\": 4.288788},\n",
    "    ],\n",
    ")"
   ]
  },
  {
   "cell_type": "code",
   "execution_count": 2,
   "outputs": [
    {
     "data": {
      "text/plain": "pyarrow.Table\nlat: double\nlong: double\n----\nlat: [[52.371807,52.387386,52.078663]]\nlong: [[4.896029,4.646219,4.288788]]"
     },
     "execution_count": 2,
     "metadata": {},
     "output_type": "execute_result"
    }
   ],
   "source": [
    "df"
   ],
   "metadata": {
    "collapsed": false,
    "ExecuteTime": {
     "end_time": "2023-10-05T12:40:38.616737Z",
     "start_time": "2023-10-05T12:40:38.612380Z"
    }
   },
   "id": "c27a77f4257a9a3"
  },
  {
   "cell_type": "code",
   "execution_count": 3,
   "outputs": [
    {
     "data": {
      "text/plain": "local (<class 'pyiceberg.catalog.rest.RestCatalog'>)"
     },
     "execution_count": 3,
     "metadata": {},
     "output_type": "execute_result"
    }
   ],
   "source": [
    "from pyiceberg.catalog import load_catalog\n",
    "cat = load_catalog('local')\n",
    "cat"
   ],
   "metadata": {
    "collapsed": false,
    "ExecuteTime": {
     "end_time": "2023-10-05T12:40:43.688352Z",
     "start_time": "2023-10-05T12:40:43.455562Z"
    }
   },
   "id": "3135c29ef073a846"
  },
  {
   "cell_type": "code",
   "execution_count": 4,
   "outputs": [
    {
     "data": {
      "text/plain": "coordinates(\n  1: lat: optional double,\n  2: long: optional double\n),\npartition by: [],\nsort order: [],\nsnapshot: null"
     },
     "execution_count": 4,
     "metadata": {},
     "output_type": "execute_result"
    }
   ],
   "source": [
    "from pyiceberg.schema import Schema\n",
    "from pyiceberg.types import (\n",
    "    DoubleType,\n",
    "    NestedField\n",
    ")\n",
    "\n",
    "schema = Schema(\n",
    "    NestedField(field_id=1, name=\"lat\", field_type=DoubleType(), required=False),\n",
    "    NestedField(field_id=2, name=\"long\", field_type=DoubleType(), required=False),\n",
    ")\n",
    "\n",
    "cat.create_table(\n",
    "    'default.coordinates',\n",
    "    schema\n",
    ")"
   ],
   "metadata": {
    "collapsed": false,
    "ExecuteTime": {
     "end_time": "2023-10-05T12:40:48.703387Z",
     "start_time": "2023-10-05T12:40:48.637526Z"
    }
   },
   "id": "39382fbc38818bdf"
  },
  {
   "cell_type": "code",
   "execution_count": 5,
   "outputs": [
    {
     "data": {
      "text/plain": "coordinates(\n  1: lat: optional double,\n  2: long: optional double\n),\npartition by: [],\nsort order: [],\nsnapshot: null"
     },
     "execution_count": 5,
     "metadata": {},
     "output_type": "execute_result"
    }
   ],
   "source": [
    "tbl = cat.load_table('default.coordinates')\n",
    "tbl"
   ],
   "metadata": {
    "collapsed": false,
    "ExecuteTime": {
     "end_time": "2023-10-05T12:41:01.264531Z",
     "start_time": "2023-10-05T12:41:01.239032Z"
    }
   },
   "id": "22261a7d1bce81af"
  },
  {
   "cell_type": "code",
   "execution_count": 6,
   "outputs": [
    {
     "name": "stdout",
     "output_type": "stream",
     "text": [
      "manifest: s3://warehouse/default/coordinates/metadata/7d8d86ed-b850-4d61-ac1b-dd5198146746-m0.avro\n",
      "manifest-list: s3://warehouse/default/coordinates/metadata/snap-3516540883678229899-0-f74e21a7-7b2a-445b-bc95-6d34836d58b3.avro\n"
     ]
    }
   ],
   "source": [
    "tbl.write_arrow(df)"
   ],
   "metadata": {
    "collapsed": false,
    "ExecuteTime": {
     "end_time": "2023-10-05T12:41:07.025362Z",
     "start_time": "2023-10-05T12:41:01.927116Z"
    }
   },
   "id": "7834b2b08f56bf7e"
  },
  {
   "cell_type": "code",
   "execution_count": 7,
   "outputs": [
    {
     "data": {
      "text/plain": "coordinates(\n  1: lat: optional double,\n  2: long: optional double\n),\npartition by: [],\nsort order: [],\nsnapshot: id=3516540883678229899, schema_id=0"
     },
     "execution_count": 7,
     "metadata": {},
     "output_type": "execute_result"
    }
   ],
   "source": [
    "tbl"
   ],
   "metadata": {
    "collapsed": false,
    "ExecuteTime": {
     "end_time": "2023-10-05T12:41:07.898979Z",
     "start_time": "2023-10-05T12:41:07.896822Z"
    }
   },
   "id": "d4e3b1c4c7e0969e"
  },
  {
   "cell_type": "code",
   "execution_count": 8,
   "outputs": [
    {
     "data": {
      "text/plain": "pyarrow.Table\nlat: double\nlong: double\n----\nlat: [[52.371807,52.387386,52.078663]]\nlong: [[4.896029,4.646219,4.288788]]"
     },
     "execution_count": 8,
     "metadata": {},
     "output_type": "execute_result"
    }
   ],
   "source": [
    "tbl.scan().to_arrow()"
   ],
   "metadata": {
    "collapsed": false,
    "ExecuteTime": {
     "end_time": "2023-10-05T12:41:08.551221Z",
     "start_time": "2023-10-05T12:41:08.510895Z"
    }
   },
   "id": "aa8ce43b68461d61"
  },
  {
   "cell_type": "code",
   "execution_count": null,
   "outputs": [],
   "source": [],
   "metadata": {
    "collapsed": false
   },
   "id": "c4a4a4933dabc0e1"
  }
 ],
 "metadata": {
  "kernelspec": {
   "display_name": "Python 3",
   "language": "python",
   "name": "python3"
  },
  "language_info": {
   "codemirror_mode": {
    "name": "ipython",
    "version": 2
   },
   "file_extension": ".py",
   "mimetype": "text/x-python",
   "name": "python",
   "nbconvert_exporter": "python",
   "pygments_lexer": "ipython2",
   "version": "2.7.6"
  }
 },
 "nbformat": 4,
 "nbformat_minor": 5
}
